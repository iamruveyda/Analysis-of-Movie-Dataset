{
 "cells": [
  {
   "cell_type": "markdown",
   "metadata": {},
   "source": [
    "Film gelirinin tahmini için doğrusal regresyon modeli"
   ]
  },
  {
   "cell_type": "code",
   "execution_count": 1,
   "metadata": {},
   "outputs": [],
   "source": [
    "import pandas as pd\n",
    "import numpy as np\n",
    "import matplotlib.pyplot as plt\n",
    "from sklearn.model_selection import train_test_split\n",
    "\n"
   ]
  },
  {
   "cell_type": "code",
   "execution_count": 2,
   "metadata": {},
   "outputs": [
    {
     "data": {
      "text/html": [
       "<div>\n",
       "<style scoped>\n",
       "    .dataframe tbody tr th:only-of-type {\n",
       "        vertical-align: middle;\n",
       "    }\n",
       "\n",
       "    .dataframe tbody tr th {\n",
       "        vertical-align: top;\n",
       "    }\n",
       "\n",
       "    .dataframe thead th {\n",
       "        text-align: right;\n",
       "    }\n",
       "</style>\n",
       "<table border=\"1\" class=\"dataframe\">\n",
       "  <thead>\n",
       "    <tr style=\"text-align: right;\">\n",
       "      <th></th>\n",
       "      <th>Unnamed: 0</th>\n",
       "      <th>genres</th>\n",
       "      <th>popularity</th>\n",
       "      <th>production_companies</th>\n",
       "      <th>release_date</th>\n",
       "      <th>budget</th>\n",
       "      <th>revenue</th>\n",
       "      <th>runtime</th>\n",
       "      <th>vote_average</th>\n",
       "      <th>vote_count</th>\n",
       "    </tr>\n",
       "  </thead>\n",
       "  <tbody>\n",
       "    <tr>\n",
       "      <th>0</th>\n",
       "      <td>0</td>\n",
       "      <td>Horror-Thriller</td>\n",
       "      <td>6912.168</td>\n",
       "      <td>Bloody Disgusting-Dark Age Cinema-Fuzz on the ...</td>\n",
       "      <td>2022-10-06</td>\n",
       "      <td>250000.0</td>\n",
       "      <td>5325078.0</td>\n",
       "      <td>138.0</td>\n",
       "      <td>7.281</td>\n",
       "      <td>290.0</td>\n",
       "    </tr>\n",
       "    <tr>\n",
       "      <th>1</th>\n",
       "      <td>1</td>\n",
       "      <td>Action-Fantasy-Science Fiction</td>\n",
       "      <td>4657.005</td>\n",
       "      <td>New Line Cinema-Flynn Picture Company-Seven Bu...</td>\n",
       "      <td>2022-10-19</td>\n",
       "      <td>200000000.0</td>\n",
       "      <td>140000000.0</td>\n",
       "      <td>125.0</td>\n",
       "      <td>7.000</td>\n",
       "      <td>710.0</td>\n",
       "    </tr>\n",
       "    <tr>\n",
       "      <th>2</th>\n",
       "      <td>2</td>\n",
       "      <td>Horror-Thriller-Mystery</td>\n",
       "      <td>2627.102</td>\n",
       "      <td>Screen Media Films-Black Hangar Studios-Orwo S...</td>\n",
       "      <td>2022-09-15</td>\n",
       "      <td>20000000.0</td>\n",
       "      <td>2892594.0</td>\n",
       "      <td>88.0</td>\n",
       "      <td>5.786</td>\n",
       "      <td>395.0</td>\n",
       "    </tr>\n",
       "    <tr>\n",
       "      <th>3</th>\n",
       "      <td>7</td>\n",
       "      <td>Horror-Thriller</td>\n",
       "      <td>2166.823</td>\n",
       "      <td>Miramax-Universal Pictures-Blumhouse Productio...</td>\n",
       "      <td>2022-10-12</td>\n",
       "      <td>20000000.0</td>\n",
       "      <td>63000000.0</td>\n",
       "      <td>111.0</td>\n",
       "      <td>6.645</td>\n",
       "      <td>787.0</td>\n",
       "    </tr>\n",
       "    <tr>\n",
       "      <th>4</th>\n",
       "      <td>10</td>\n",
       "      <td>Family-Animation-Fantasy-Music-Comedy-Adventure</td>\n",
       "      <td>2000.190</td>\n",
       "      <td>Walt Disney Pictures-Pixar</td>\n",
       "      <td>2017-10-27</td>\n",
       "      <td>175000000.0</td>\n",
       "      <td>800526015.0</td>\n",
       "      <td>105.0</td>\n",
       "      <td>8.227</td>\n",
       "      <td>16330.0</td>\n",
       "    </tr>\n",
       "  </tbody>\n",
       "</table>\n",
       "</div>"
      ],
      "text/plain": [
       "   Unnamed: 0                                           genres  popularity  \\\n",
       "0           0                                  Horror-Thriller    6912.168   \n",
       "1           1                   Action-Fantasy-Science Fiction    4657.005   \n",
       "2           2                          Horror-Thriller-Mystery    2627.102   \n",
       "3           7                                  Horror-Thriller    2166.823   \n",
       "4          10  Family-Animation-Fantasy-Music-Comedy-Adventure    2000.190   \n",
       "\n",
       "                                production_companies release_date  \\\n",
       "0  Bloody Disgusting-Dark Age Cinema-Fuzz on the ...   2022-10-06   \n",
       "1  New Line Cinema-Flynn Picture Company-Seven Bu...   2022-10-19   \n",
       "2  Screen Media Films-Black Hangar Studios-Orwo S...   2022-09-15   \n",
       "3  Miramax-Universal Pictures-Blumhouse Productio...   2022-10-12   \n",
       "4                         Walt Disney Pictures-Pixar   2017-10-27   \n",
       "\n",
       "        budget      revenue  runtime  vote_average  vote_count  \n",
       "0     250000.0    5325078.0    138.0         7.281       290.0  \n",
       "1  200000000.0  140000000.0    125.0         7.000       710.0  \n",
       "2   20000000.0    2892594.0     88.0         5.786       395.0  \n",
       "3   20000000.0   63000000.0    111.0         6.645       787.0  \n",
       "4  175000000.0  800526015.0    105.0         8.227     16330.0  "
      ]
     },
     "execution_count": 2,
     "metadata": {},
     "output_type": "execute_result"
    }
   ],
   "source": [
    "data = pd.read_csv(\"./Dataset/data_new.csv\")\n",
    "\n",
    "data.head()"
   ]
  },
  {
   "cell_type": "markdown",
   "metadata": {},
   "source": [
    "[Help-> beginners-guide-linear-regression][Link]\n",
    "\n",
    "[Link]: https://www.kdnuggets.com/2019/03/beginners-guide-linear-regression-python-scikit-learn.html"
   ]
  },
  {
   "cell_type": "markdown",
   "metadata": {},
   "source": [
    "Basit doğrusal ve çoklu doğrusal regresyon arasındaki fark nedir?\n",
    "\n",
    "Basit doğrusal regresyon yalnızca bir x ve bir y değişkenine sahiptir. Çoklu doğrusal regresyon, bir y ve iki veya daha fazla x değişkenine sahiptir."
   ]
  },
  {
   "cell_type": "markdown",
   "metadata": {},
   "source": [
    "## Multiple Linear Regression"
   ]
  },
  {
   "cell_type": "code",
   "execution_count": 3,
   "metadata": {},
   "outputs": [],
   "source": [
    "# eğitim ve test setine &&  bağımlı ve bağımsız değişken olarak ayırma\n",
    "feature_cols = ['budget', 'popularity', 'vote_average',\n",
    "                'vote_count']\n",
    "features = data[feature_cols]\n",
    "target = data['revenue'].values\n",
    "features_train, features_test, target_train, target_test = train_test_split(\n",
    "    features, target, test_size=0.25, random_state=0)\n"
   ]
  },
  {
   "cell_type": "markdown",
   "metadata": {},
   "source": [
    "* test_size değişkeni, test kümesinin oranını gerçekten belirlediğimiz yerdir.\n",
    "* Verileri eğitim ve test setlerine ayırdıktan sonra sıra algoritmamızı eğitmeye gelir. Bunun için LinearRegression sınıfını içe aktarmamız, onu somutlaştırmamız ve eğitim verilerimizle birlikte fit() yöntemini çağırmamız gerekiyor."
   ]
  },
  {
   "cell_type": "code",
   "execution_count": 4,
   "metadata": {},
   "outputs": [
    {
     "data": {
      "text/html": [
       "<style>#sk-container-id-1 {color: black;background-color: white;}#sk-container-id-1 pre{padding: 0;}#sk-container-id-1 div.sk-toggleable {background-color: white;}#sk-container-id-1 label.sk-toggleable__label {cursor: pointer;display: block;width: 100%;margin-bottom: 0;padding: 0.3em;box-sizing: border-box;text-align: center;}#sk-container-id-1 label.sk-toggleable__label-arrow:before {content: \"▸\";float: left;margin-right: 0.25em;color: #696969;}#sk-container-id-1 label.sk-toggleable__label-arrow:hover:before {color: black;}#sk-container-id-1 div.sk-estimator:hover label.sk-toggleable__label-arrow:before {color: black;}#sk-container-id-1 div.sk-toggleable__content {max-height: 0;max-width: 0;overflow: hidden;text-align: left;background-color: #f0f8ff;}#sk-container-id-1 div.sk-toggleable__content pre {margin: 0.2em;color: black;border-radius: 0.25em;background-color: #f0f8ff;}#sk-container-id-1 input.sk-toggleable__control:checked~div.sk-toggleable__content {max-height: 200px;max-width: 100%;overflow: auto;}#sk-container-id-1 input.sk-toggleable__control:checked~label.sk-toggleable__label-arrow:before {content: \"▾\";}#sk-container-id-1 div.sk-estimator input.sk-toggleable__control:checked~label.sk-toggleable__label {background-color: #d4ebff;}#sk-container-id-1 div.sk-label input.sk-toggleable__control:checked~label.sk-toggleable__label {background-color: #d4ebff;}#sk-container-id-1 input.sk-hidden--visually {border: 0;clip: rect(1px 1px 1px 1px);clip: rect(1px, 1px, 1px, 1px);height: 1px;margin: -1px;overflow: hidden;padding: 0;position: absolute;width: 1px;}#sk-container-id-1 div.sk-estimator {font-family: monospace;background-color: #f0f8ff;border: 1px dotted black;border-radius: 0.25em;box-sizing: border-box;margin-bottom: 0.5em;}#sk-container-id-1 div.sk-estimator:hover {background-color: #d4ebff;}#sk-container-id-1 div.sk-parallel-item::after {content: \"\";width: 100%;border-bottom: 1px solid gray;flex-grow: 1;}#sk-container-id-1 div.sk-label:hover label.sk-toggleable__label {background-color: #d4ebff;}#sk-container-id-1 div.sk-serial::before {content: \"\";position: absolute;border-left: 1px solid gray;box-sizing: border-box;top: 0;bottom: 0;left: 50%;z-index: 0;}#sk-container-id-1 div.sk-serial {display: flex;flex-direction: column;align-items: center;background-color: white;padding-right: 0.2em;padding-left: 0.2em;position: relative;}#sk-container-id-1 div.sk-item {position: relative;z-index: 1;}#sk-container-id-1 div.sk-parallel {display: flex;align-items: stretch;justify-content: center;background-color: white;position: relative;}#sk-container-id-1 div.sk-item::before, #sk-container-id-1 div.sk-parallel-item::before {content: \"\";position: absolute;border-left: 1px solid gray;box-sizing: border-box;top: 0;bottom: 0;left: 50%;z-index: -1;}#sk-container-id-1 div.sk-parallel-item {display: flex;flex-direction: column;z-index: 1;position: relative;background-color: white;}#sk-container-id-1 div.sk-parallel-item:first-child::after {align-self: flex-end;width: 50%;}#sk-container-id-1 div.sk-parallel-item:last-child::after {align-self: flex-start;width: 50%;}#sk-container-id-1 div.sk-parallel-item:only-child::after {width: 0;}#sk-container-id-1 div.sk-dashed-wrapped {border: 1px dashed gray;margin: 0 0.4em 0.5em 0.4em;box-sizing: border-box;padding-bottom: 0.4em;background-color: white;}#sk-container-id-1 div.sk-label label {font-family: monospace;font-weight: bold;display: inline-block;line-height: 1.2em;}#sk-container-id-1 div.sk-label-container {text-align: center;}#sk-container-id-1 div.sk-container {/* jupyter's `normalize.less` sets `[hidden] { display: none; }` but bootstrap.min.css set `[hidden] { display: none !important; }` so we also need the `!important` here to be able to override the default hidden behavior on the sphinx rendered scikit-learn.org. See: https://github.com/scikit-learn/scikit-learn/issues/21755 */display: inline-block !important;position: relative;}#sk-container-id-1 div.sk-text-repr-fallback {display: none;}</style><div id=\"sk-container-id-1\" class=\"sk-top-container\"><div class=\"sk-text-repr-fallback\"><pre>LinearRegression()</pre><b>In a Jupyter environment, please rerun this cell to show the HTML representation or trust the notebook. <br />On GitHub, the HTML representation is unable to render, please try loading this page with nbviewer.org.</b></div><div class=\"sk-container\" hidden><div class=\"sk-item\"><div class=\"sk-estimator sk-toggleable\"><input class=\"sk-toggleable__control sk-hidden--visually\" id=\"sk-estimator-id-1\" type=\"checkbox\" checked><label for=\"sk-estimator-id-1\" class=\"sk-toggleable__label sk-toggleable__label-arrow\">LinearRegression</label><div class=\"sk-toggleable__content\"><pre>LinearRegression()</pre></div></div></div></div></div>"
      ],
      "text/plain": [
       "LinearRegression()"
      ]
     },
     "execution_count": 4,
     "metadata": {},
     "output_type": "execute_result"
    }
   ],
   "source": [
    "# Doğrusal regresyon modeli oluşturma\n",
    "\n",
    "from sklearn.linear_model import LinearRegression\n",
    "model_1 = LinearRegression()\n",
    "model_1.fit(features_train, target_train)\n"
   ]
  },
  {
   "cell_type": "markdown",
   "metadata": {},
   "source": [
    "Algoritma eğitildikten sonra, bazı tahminlerde bulunması gerekiyor. Bunu yapmak için test verileri kullanılır."
   ]
  },
  {
   "cell_type": "code",
   "execution_count": 5,
   "metadata": {},
   "outputs": [],
   "source": [
    "# Test setinde tahmin\n",
    "pred = model_1.predict(features_test)\n"
   ]
  },
  {
   "cell_type": "code",
   "execution_count": 6,
   "metadata": {},
   "outputs": [
    {
     "data": {
      "text/plain": [
       "0.7010550567362299"
      ]
     },
     "execution_count": 6,
     "metadata": {},
     "output_type": "execute_result"
    }
   ],
   "source": [
    "# Model.score() ile modelin başarısını ölçüyoruz.Bunu bağımlı ve bağımsız değişkenler için aşağıdaki gibi hesaplıyoruz.\n",
    "model_1.score(features,target)"
   ]
  },
  {
   "cell_type": "code",
   "execution_count": 7,
   "metadata": {},
   "outputs": [
    {
     "data": {
      "text/plain": [
       "0.7409198972684385"
      ]
     },
     "execution_count": 7,
     "metadata": {},
     "output_type": "execute_result"
    }
   ],
   "source": [
    "# Çok etiketli sınıflandırmada, bu işlev alt küme doğruluğunu hesaplar\n",
    "from sklearn.metrics import r2_score\n",
    "\n",
    "r2_score(target_test, pred)\n"
   ]
  },
  {
   "cell_type": "markdown",
   "metadata": {},
   "source": [
    "R-kare, doğrusal regresyon modelleri için bir uyum iyiliği ölçüsüdür. Bu istatistik, bağımsız değişkenlerin toplu olarak açıkladıkları bağımlı değişkendeki varyansın yüzdesini gösterir."
   ]
  },
  {
   "cell_type": "markdown",
   "metadata": {},
   "source": [
    "Öngörülen R-kare, bir regresyon modelinin yeni gözlemler için yanıtları ne kadar iyi tahmin ettiğini gösterir. Bu istatistik, modelin orijinal verilere ne zaman uyduğunu belirlemenize yardımcı olur, ancak yeni gözlemler için geçerli tahminler sağlama konusunda daha az yeteneklidir."
   ]
  },
  {
   "cell_type": "markdown",
   "metadata": {},
   "source": [
    "[sklearn.metrics.r2_score][Link]\n",
    "\n",
    "[Link]:https://scikit-learn.org/stable/modules/generated/sklearn.metrics.r2_score.html"
   ]
  }
 ],
 "metadata": {
  "kernelspec": {
   "display_name": "Python 3.10.8 64-bit (microsoft store)",
   "language": "python",
   "name": "python3"
  },
  "language_info": {
   "codemirror_mode": {
    "name": "ipython",
    "version": 3
   },
   "file_extension": ".py",
   "mimetype": "text/x-python",
   "name": "python",
   "nbconvert_exporter": "python",
   "pygments_lexer": "ipython3",
   "version": "3.10.8"
  },
  "orig_nbformat": 4,
  "vscode": {
   "interpreter": {
    "hash": "486e0d5a79acdbfffd563ee7a67a93a5017bd2a4f66495483a69f0245c8a4a6c"
   }
  }
 },
 "nbformat": 4,
 "nbformat_minor": 2
}
